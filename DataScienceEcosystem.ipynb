{
 "cells": [
  {
   "cell_type": "markdown",
   "id": "cf6a96e3-a9f7-4bcb-a91d-2c278c99cee5",
   "metadata": {},
   "source": [
    "# Data Science Tools and Ecosystem "
   ]
  },
  {
   "cell_type": "markdown",
   "id": "fb6075e6-e03a-41f5-a7c3-6e14d2726bcb",
   "metadata": {},
   "source": [
    "## Author\n",
    "Nathan Tisdale"
   ]
  },
  {
   "cell_type": "markdown",
   "id": "d0ce8531-4e91-475b-bf19-8c35923df0e6",
   "metadata": {},
   "source": [
    "In this notebook, Data Science Tools and Ecosystem are summarized."
   ]
  },
  {
   "cell_type": "markdown",
   "id": "9ecac316-6a5a-42fa-8514-d685cdd6a531",
   "metadata": {},
   "source": [
    "**Objectives:**\n",
    "* List popular languages used for Data Science\n",
    "* List popular libraries used for Data Science\n",
    "* List popular Deveopment Environments used for Data Science\n",
    "* Demonstrate Markdown in a Jupyter Notebook\n",
    "* Demonstrate Code in a Jupyter Notebook"
   ]
  },
  {
   "cell_type": "code",
   "execution_count": null,
   "id": "4fc55dc5-b894-4b00-8624-526e85e878d1",
   "metadata": {},
   "outputs": [],
   "source": []
  },
  {
   "cell_type": "markdown",
   "id": "d1831d0d-abea-4246-aed4-cb786dfe912d",
   "metadata": {},
   "source": [
    "Some of the popular languages that data Scientists use are: \n",
    "1. Python\n",
    "1. R\n",
    "1. SQL"
   ]
  },
  {
   "cell_type": "markdown",
   "id": "44f47e3c-cf26-4d7f-a750-8b031938a3ac",
   "metadata": {},
   "source": [
    "Some of the commonly used libraries used by Data Scientists include:\n",
    "1. pandas\n",
    "1. pyplot\n",
    "1. pytorch"
   ]
  },
  {
   "cell_type": "markdown",
   "id": "4dcae3db-d0fb-4e40-9e58-4ec40ff65d79",
   "metadata": {},
   "source": [
    "| Data Science Tools |\n",
    "| --- |\n",
    "| JupyterLab |\n",
    "| RStudio |\n",
    "| VSCode |"
   ]
  },
  {
   "cell_type": "markdown",
   "id": "e97f7dfb-f460-44b3-b469-9a66aed7238f",
   "metadata": {},
   "source": [
    "### Below are a few examples of evaluating arighmetic experessions in Python"
   ]
  },
  {
   "cell_type": "code",
   "execution_count": 47,
   "id": "224e6a9f-d3ed-4832-b322-537ccb31c024",
   "metadata": {},
   "outputs": [
    {
     "data": {
      "text/plain": [
       "17"
      ]
     },
     "execution_count": 47,
     "metadata": {},
     "output_type": "execute_result"
    }
   ],
   "source": [
    "# This is a simple arighmetic expression to multiply then add integers\n",
    "(3*4)+5"
   ]
  },
  {
   "cell_type": "code",
   "execution_count": 49,
   "id": "4ec46f65-bece-4c25-8cdd-90466a4d8e82",
   "metadata": {},
   "outputs": [
    {
     "name": "stdout",
     "output_type": "stream",
     "text": [
      "Hours: 3.3\n"
     ]
    }
   ],
   "source": [
    "# This will convert 200 minutes to hours by dividing by 60\n",
    "minutes = 200\n",
    "hours = minutes / 60\n",
    "print(f\"Hours: {hours:1.2}\") "
   ]
  }
 ],
 "metadata": {
  "kernelspec": {
   "display_name": "Python 3 (ipykernel)",
   "language": "python",
   "name": "python3"
  },
  "language_info": {
   "codemirror_mode": {
    "name": "ipython",
    "version": 3
   },
   "file_extension": ".py",
   "mimetype": "text/x-python",
   "name": "python",
   "nbconvert_exporter": "python",
   "pygments_lexer": "ipython3",
   "version": "3.12.4"
  }
 },
 "nbformat": 4,
 "nbformat_minor": 5
}
